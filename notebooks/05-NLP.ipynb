{
 "cells": [
  {
   "cell_type": "markdown",
   "metadata": {},
   "source": [
    "# Preparation"
   ]
  },
  {
   "cell_type": "code",
   "execution_count": 31,
   "metadata": {},
   "outputs": [],
   "source": [
    "import os\n",
    "import sys\n",
    "\n",
    "import pandas as pd\n",
    "from joblib import dump, load\n",
    "\n",
    "pd.set_option(\"mode.copy_on_write\", True)\n",
    "\n",
    "script_dir = os.path.abspath(\"\")\n",
    "mymodule_dir = os.path.join(script_dir, \"..\", \"scripts\")\n",
    "sys.path.append(mymodule_dir)\n",
    "import cleaning\n",
    "from nlp import tokenize_doc\n",
    "\n",
    "jobs = cleaning.prep(\n",
    "    pd.read_pickle(\"../data/jobs.pkl\"), filtered=True, categories_reduced=False\n",
    ")\n",
    "# jobs.head()"
   ]
  },
  {
   "cell_type": "code",
   "execution_count": 15,
   "metadata": {},
   "outputs": [],
   "source": [
    "jobs = jobs[\n",
    "    (jobs[\"Description\"] != \"Nicht stepstone\")\n",
    "    & (jobs[\"Description\"] != \"Stellenanzeige nicht mehr verfügbar\")\n",
    "    & (jobs[\"Description\"] != \"\")\n",
    "    & (jobs[\"Profile\"] != \"\")\n",
    "]\n",
    "texts = jobs[\"Titel\"] + \" \" + jobs[\"Description\"] + \" \" + jobs[\"Profile\"]"
   ]
  },
  {
   "cell_type": "markdown",
   "metadata": {},
   "source": [
    "# Preprocessing"
   ]
  },
  {
   "cell_type": "code",
   "execution_count": 16,
   "metadata": {},
   "outputs": [
    {
     "name": "stdout",
     "output_type": "stream",
     "text": [
      "Tokenizing 2589 documents\n",
      "500/2589\n",
      "1000/2589\n",
      "1500/2589\n",
      "2000/2589\n",
      "2500/2589\n"
     ]
    }
   ],
   "source": [
    "import pickle\n",
    "\n",
    "if os.path.isfile(\"../data/lemmatized.pkl\"):\n",
    "    with open(\"../data/lemmatized.pkl\", \"rb\") as file:\n",
    "        old_lemmas = pickle.load(file)\n",
    "else:\n",
    "    old_lemmas = []\n",
    "\n",
    "lemmas = old_lemmas\n",
    "\n",
    "docs = [doc for doc in texts]\n",
    "\n",
    "if len(docs) > len(old_lemmas):\n",
    "    new_docs = docs[len(old_lemmas) :]\n",
    "    docs_count = len(new_docs)\n",
    "    new_lemmas = []\n",
    "    print(f\"Tokenizing {docs_count} documents\")\n",
    "    i = 1\n",
    "    for doc in new_docs:\n",
    "        if i % 500 == 0:\n",
    "            print(f\"{i}/{docs_count}\")\n",
    "        new_lemmas.append(tokenize_doc(doc))\n",
    "        i += 1\n",
    "    lemmas += new_lemmas\n",
    "        \n",
    "    with open(\"../data/lemmatized.pkl\", \"wb\") as file:\n",
    "        pickle.dump(lemmas, file)"
   ]
  },
  {
   "cell_type": "code",
   "execution_count": 17,
   "metadata": {},
   "outputs": [
    {
     "data": {
      "text/plain": [
       "[('data', 4401),\n",
       " ('business', 2640),\n",
       " ('team', 2469),\n",
       " ('analyst', 2434),\n",
       " ('bereich', 2385),\n",
       " ('erfahrung', 2237),\n",
       " ('analyse', 2177),\n",
       " ('kenntnis', 2128),\n",
       " ('abgeschlossen', 1639),\n",
       " ('studium', 1567)]"
      ]
     },
     "execution_count": 17,
     "metadata": {},
     "output_type": "execute_result"
    }
   ],
   "source": [
    "from collections import Counter\n",
    "\n",
    "all_in_one = [w for doc in lemmas for w in doc]\n",
    "bow = Counter(all_in_one)\n",
    "bow.most_common(10)"
   ]
  },
  {
   "cell_type": "code",
   "execution_count": 37,
   "metadata": {},
   "outputs": [
    {
     "name": "stderr",
     "output_type": "stream",
     "text": [
      "/Library/Frameworks/Python.framework/Versions/3.11/lib/python3.11/site-packages/sklearn/feature_extraction/text.py:525: UserWarning: The parameter 'token_pattern' will not be used since 'tokenizer' is not None'\n",
      "  warnings.warn(\n"
     ]
    },
    {
     "name": "stdout",
     "output_type": "stream",
     "text": [
      "vectorization done in 0.259 s\n",
      "n_samples: 2589, n_features: 5456\n",
      "Sparsity: 0.016\n",
      "LSA done in 1.327 s\n",
      "Explained variance of the SVD step: 28.6%\n"
     ]
    }
   ],
   "source": [
    "from time import time\n",
    "\n",
    "import numpy as np\n",
    "from sklearn.decomposition import TruncatedSVD\n",
    "from sklearn.feature_extraction.text import TfidfVectorizer\n",
    "from sklearn.pipeline import make_pipeline\n",
    "from sklearn.preprocessing import Normalizer\n",
    "\n",
    "# Feature Extraction using TfidfVectorizer\n",
    "\n",
    "\n",
    "def custom_tokenizer(x):\n",
    "    return x\n",
    "\n",
    "def custom_preprocessor(x):\n",
    "    return x\n",
    "\n",
    "vectorizer = TfidfVectorizer(\n",
    "    tokenizer=custom_tokenizer,\n",
    "    preprocessor=custom_preprocessor,\n",
    "    min_df=5,\n",
    "    max_df=0.8,\n",
    ")\n",
    "\n",
    "t0 = time()\n",
    "X_tfidf = vectorizer.fit_transform(lemmas)\n",
    "\n",
    "print(f\"vectorization done in {time() - t0:.3f} s\")\n",
    "print(f\"n_samples: {X_tfidf.shape[0]}, n_features: {X_tfidf.shape[1]}\")\n",
    "\n",
    "print(f\"Sparsity: {X_tfidf.nnz / np.prod(X_tfidf.shape):.3f}\")\n",
    "\n",
    "# Performing dimensionality reduction using LSA\n",
    "lsa = make_pipeline(TruncatedSVD(n_components=100), Normalizer(copy=False))\n",
    "t0 = time()\n",
    "X_lsa = lsa.fit_transform(X_tfidf)\n",
    "explained_variance = lsa[0].explained_variance_ratio_.sum()\n",
    "\n",
    "print(f\"LSA done in {time() - t0:.3f} s\")\n",
    "print(f\"Explained variance of the SVD step: {explained_variance * 100:.1f}%\")\n"
   ]
  },
  {
   "cell_type": "code",
   "execution_count": 39,
   "metadata": {},
   "outputs": [
    {
     "data": {
      "text/plain": [
       "['../models/lsa.joblib']"
      ]
     },
     "execution_count": 39,
     "metadata": {},
     "output_type": "execute_result"
    }
   ],
   "source": [
    "dump(vectorizer, \"../models/vectorizer.joblib\")\n",
    "dump(lsa, \"../models/lsa.joblib\")"
   ]
  },
  {
   "cell_type": "markdown",
   "metadata": {},
   "source": [
    "# Clustering with kmeans"
   ]
  },
  {
   "cell_type": "code",
   "execution_count": 26,
   "metadata": {},
   "outputs": [],
   "source": [
    "import matplotlib.pyplot as plt\n",
    "from sklearn.cluster import KMeans\n",
    "\n",
    "\n",
    "def cluster_means(n, X_lsa):\n",
    "    t0 = time()\n",
    "\n",
    "    inertias = {}\n",
    "    for k in range(1, n):\n",
    "        kmeans = KMeans(n_clusters=k, max_iter=100, n_init=1, random_state=1)\n",
    "\n",
    "        kmeans.fit(X_lsa)\n",
    "        inertias[k] = kmeans.inertia_\n",
    "\n",
    "    print(f\"Clustering done in {time() - t0:.3f} s\")\n",
    "\n",
    "    plt.figure()\n",
    "    plt.plot(inertias.keys(), inertias.values())\n",
    "    plt.xlabel(\"Number of clusters\")\n",
    "    plt.ylabel(\"Inertia\")\n",
    "    plt.show()\n",
    "\n",
    "\n",
    "def terms_per_cluster(lsa, vectorizer, kmeans, n):\n",
    "    original_space_centroids = lsa[0].inverse_transform(kmeans.cluster_centers_)\n",
    "    order_centroids = original_space_centroids.argsort()[:, ::-1]\n",
    "    terms = vectorizer.get_feature_names_out()\n",
    "\n",
    "    for i in range(n):\n",
    "        print(f\"Cluster {i}: \", end=\"\")\n",
    "        for ind in order_centroids[i, :20]:\n",
    "            print(f\"{terms[ind]} \", end=\"\")\n",
    "        print()"
   ]
  },
  {
   "cell_type": "code",
   "execution_count": 27,
   "metadata": {},
   "outputs": [
    {
     "name": "stdout",
     "output_type": "stream",
     "text": [
      "Clustering done in 2.266 s\n"
     ]
    },
    {
     "data": {
      "image/png": "[encoded data removed]",
      "text/plain": [
       "<Figure size 640x480 with 1 Axes>"
      ]
     },
     "metadata": {},
     "output_type": "display_data"
    }
   ],
   "source": [
    "cluster_means(20, X_lsa)"
   ]
  },
  {
   "cell_type": "markdown",
   "metadata": {},
   "source": [
    "# Top terms per Cluster"
   ]
  },
  {
   "cell_type": "code",
   "execution_count": 28,
   "metadata": {},
   "outputs": [
    {
     "name": "stdout",
     "output_type": "stream",
     "text": [
      "Cluster 0: data science learning machine erfahrung bereich scientist entwicklung kenntnis modell datum analytic python team informatik methode ki mathematik statistik analyse \n",
      "Cluster 1: erstellung kenntnis m analyse bereich office controlling abgeschlossen analytisch hoch umgang analyst studium excel insbesondere fähigkeit erfahrung berufserfahrung unterstützung arbeitsweise \n",
      "Cluster 2: experience business skills financial analysis project management supporen work strong risk processes data knowledg development analytical team degree working finance \n",
      "Cluster 3: business anforderung prozeß fachlich erfahrung technisch analyst agil team bereich kunde projekt security arbeiten vergleichbar fachbereich kenntnis lösung studium unser \n",
      "Cluster 4: sein datum data analyse analytic marketing power bereich kenntnis business erfahrung dashboard sql analyst tool datenanalyse report analytisch studium intelligence \n",
      "Cluster 5: data experience science team skills work product business knowledg model project analytic learning development analysis working machine new research technical \n"
     ]
    },
    {
     "data": {
      "image/png": "[encoded data removed]",
      "text/plain": [
       "<Figure size 640x480 with 1 Axes>"
      ]
     },
     "metadata": {},
     "output_type": "display_data"
    }
   ],
   "source": [
    "import seaborn as sns\n",
    "\n",
    "cluster_count = 6\n",
    "kmeans = KMeans(n_clusters=cluster_count, max_iter=100, n_init=1, random_state=2)\n",
    "\n",
    "\n",
    "kmeans.fit(X_lsa)\n",
    "\n",
    "\n",
    "labels = kmeans.labels_\n",
    "\n",
    "df_eval = pd.DataFrame({\"Label\": labels, \"Kategorie\": jobs.iloc[:, 18]})\n",
    "\n",
    "# display(df_eval.groupby(\"Kategorie\").value_counts(subset=[\"Label\"], normalize=True))\n",
    "by_label = df_eval.groupby(\"Label\").value_counts(subset=[\"Kategorie\"], normalize=True)\n",
    "\n",
    "ax = sns.histplot(\n",
    "    data=df_eval, x=\"Label\", hue=\"Kategorie\", multiple=\"stack\", stat=\"percent\"\n",
    ")\n",
    "sns.move_legend(ax, \"upper left\", bbox_to_anchor=(1, 1))\n",
    "\n",
    "terms_per_cluster(lsa, vectorizer, kmeans, cluster_count)"
   ]
  },
  {
   "cell_type": "code",
   "execution_count": 29,
   "metadata": {},
   "outputs": [
    {
     "data": {
      "text/plain": [
       "['../models/kmeans.joblib']"
      ]
     },
     "execution_count": 29,
     "metadata": {},
     "output_type": "execute_result"
    }
   ],
   "source": [
    "dump(kmeans, \"../models/kmeans.joblib\")"
   ]
  },
  {
   "cell_type": "code",
   "execution_count": 33,
   "metadata": {},
   "outputs": [],
   "source": []
  },
  {
   "cell_type": "code",
   "execution_count": null,
   "metadata": {},
   "outputs": [],
   "source": []
  }
 ],
 "metadata": {
  "kernelspec": {
   "display_name": "Python 3",
   "language": "python",
   "name": "python3"
  },
  "language_info": {
   "codemirror_mode": {
    "name": "ipython",
    "version": 3
   },
   "file_extension": ".py",
   "mimetype": "text/x-python",
   "name": "python",
   "nbconvert_exporter": "python",
   "pygments_lexer": "ipython3",
   "version": "3.11.4"
  }
 },
 "nbformat": 4,
 "nbformat_minor": 2
}
