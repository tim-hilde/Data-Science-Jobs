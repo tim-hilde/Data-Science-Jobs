{
 "cells": [
  {
   "cell_type": "markdown",
   "metadata": {},
   "source": [
    "# Preparation"
   ]
  },
  {
   "cell_type": "code",
   "execution_count": 23,
   "metadata": {},
   "outputs": [],
   "source": [
    "import os\n",
    "import sys\n",
    "\n",
    "import pandas as pd\n",
    "\n",
    "pd.set_option(\"mode.copy_on_write\", True)\n",
    "\n",
    "script_dir = os.path.abspath(\"\")\n",
    "mymodule_dir = os.path.join(script_dir, \"..\", \"scripts\")\n",
    "sys.path.append(mymodule_dir)\n",
    "import cleaning\n",
    "from nlp import tokenize_doc\n",
    "\n",
    "jobs = cleaning.prep(\n",
    "    pd.read_pickle(\"../data/jobs.pkl\"), filtered=True, categories_reduced=True\n",
    ")\n",
    "# jobs.head()"
   ]
  },
  {
   "cell_type": "code",
   "execution_count": 24,
   "metadata": {},
   "outputs": [],
   "source": [
    "jobs = jobs[\n",
    "    (jobs[\"Description\"] != \"Nicht stepstone\")\n",
    "    & (jobs[\"Description\"] != \"Stellenanzeige nicht mehr verfügbar\")\n",
    "    & (jobs[\"Description\"] != \"\")\n",
    "    & (jobs[\"Profile\"] != \"\")\n",
    "\t& (jobs[\"Gehalt_min_yearly\"]).notna()\n",
    "]\n",
    "texts = jobs[\"Titel\"] + \" \" + jobs[\"Description\"] + \" \" + jobs[\"Profile\"]"
   ]
  },
  {
   "cell_type": "markdown",
   "metadata": {},
   "source": [
    "# Preprocessing"
   ]
  },
  {
   "cell_type": "code",
   "execution_count": 25,
   "metadata": {},
   "outputs": [
    {
     "name": "stdout",
     "output_type": "stream",
     "text": [
      "Tokenizing 2000 documents\n",
      "500/2000\n",
      "1000/2000\n",
      "1500/2000\n",
      "2000/2000\n"
     ]
    }
   ],
   "source": [
    "import pickle\n",
    "\n",
    "if os.path.isfile(\"../data/lemmatized_only_ds.pkl\"):\n",
    "    with open(\"../data/lemmatized_only_ds.pkl\", \"rb\") as file:\n",
    "        old_lemmas = pickle.load(file)\n",
    "else:\n",
    "    old_lemmas = []\n",
    "\n",
    "lemmas = old_lemmas\n",
    "\n",
    "docs = [doc for doc in texts]\n",
    "\n",
    "if len(docs) > len(old_lemmas):\n",
    "    new_docs = docs[len(old_lemmas) :]\n",
    "    docs_count = len(new_docs)\n",
    "    new_lemmas = []\n",
    "    print(f\"Tokenizing {docs_count} documents\")\n",
    "    i = 1\n",
    "    for doc in new_docs:\n",
    "        if i % 500 == 0:\n",
    "            print(f\"{i}/{docs_count}\")\n",
    "        new_lemmas.append(tokenize_doc(doc))\n",
    "        i += 1\n",
    "    lemmas += new_lemmas\n",
    "        \n",
    "    with open(\"../data/lemmatized_only_ds.pkl\", \"wb\") as file:\n",
    "        pickle.dump(lemmas, file)"
   ]
  },
  {
   "cell_type": "code",
   "execution_count": 26,
   "metadata": {},
   "outputs": [
    {
     "data": {
      "text/plain": [
       "[('data', 2581),\n",
       " ('business', 1988),\n",
       " ('analyst', 1972),\n",
       " ('bereich', 1877),\n",
       " ('team', 1812),\n",
       " ('erfahrung', 1742),\n",
       " ('analyse', 1726),\n",
       " ('kenntnis', 1632),\n",
       " ('abgeschlossen', 1292),\n",
       " ('studium', 1271)]"
      ]
     },
     "execution_count": 26,
     "metadata": {},
     "output_type": "execute_result"
    }
   ],
   "source": [
    "from collections import Counter\n",
    "\n",
    "all_in_one = [w for doc in lemmas for w in doc]\n",
    "bow = Counter(all_in_one)\n",
    "bow.most_common(10)"
   ]
  },
  {
   "cell_type": "code",
   "execution_count": 29,
   "metadata": {},
   "outputs": [],
   "source": [
    "from time import time\n",
    "from sklearn.feature_extraction.text import TfidfVectorizer\n",
    "from sklearn.decomposition import TruncatedSVD\n",
    "from sklearn.pipeline import make_pipeline\n",
    "from sklearn.preprocessing import Normalizer\n",
    "import numpy as np\n",
    "\n",
    "\n",
    "def vec_lsa(documents):\n",
    "    # Feature Extraction using TfidfVectorizer\n",
    "\n",
    "    vectorizer = TfidfVectorizer(\n",
    "        tokenizer=lambda x: x,\n",
    "        preprocessor=lambda x: x,\n",
    "        min_df=5,\n",
    "        max_df=1.0\n",
    "    )\n",
    "\n",
    "    t0 = time()\n",
    "    X_tfidf = vectorizer.fit_transform(documents)\n",
    "\n",
    "    print(f\"vectorization done in {time() - t0:.3f} s\")\n",
    "    print(f\"n_samples: {X_tfidf.shape[0]}, n_features: {X_tfidf.shape[1]}\")\n",
    "\n",
    "    print(f\"Sparsity: {X_tfidf.nnz / np.prod(X_tfidf.shape):.3f}\")\n",
    "\n",
    "    # Performing dimensionality reduction using LSA\n",
    "    lsa = make_pipeline(TruncatedSVD(n_components=100), Normalizer(copy=False))\n",
    "    t0 = time()\n",
    "    X_lsa = lsa.fit_transform(X_tfidf)\n",
    "    explained_variance = lsa[0].explained_variance_ratio_.sum()\n",
    "\n",
    "    print(f\"LSA done in {time() - t0:.3f} s\")\n",
    "    print(f\"Explained variance of the SVD step: {explained_variance * 100:.1f}%\")\n",
    "\n",
    "    return vectorizer, X_tfidf, lsa, X_lsa"
   ]
  },
  {
   "cell_type": "code",
   "execution_count": 30,
   "metadata": {},
   "outputs": [
    {
     "name": "stderr",
     "output_type": "stream",
     "text": [
      "/Library/Frameworks/Python.framework/Versions/3.11/lib/python3.11/site-packages/sklearn/feature_extraction/text.py:525: UserWarning: The parameter 'token_pattern' will not be used since 'tokenizer' is not None'\n",
      "  warnings.warn(\n"
     ]
    },
    {
     "name": "stdout",
     "output_type": "stream",
     "text": [
      "vectorization done in 0.170 s\n",
      "n_samples: 2000, n_features: 4446\n",
      "Sparsity: 0.019\n",
      "LSA done in 2.414 s\n",
      "Explained variance of the SVD step: 31.1%\n"
     ]
    }
   ],
   "source": [
    "vectorizer_all, X_tfidf_all, lsa_all, X_lsa_all = vec_lsa(lemmas)"
   ]
  },
  {
   "cell_type": "markdown",
   "metadata": {},
   "source": [
    "# Clustering with kmeans"
   ]
  },
  {
   "cell_type": "code",
   "execution_count": null,
   "metadata": {},
   "outputs": [],
   "source": [
    "import matplotlib.pyplot as plt\n",
    "from sklearn.cluster import KMeans\n",
    "\n",
    "\n",
    "def cluster_means(n, X_lsa):\n",
    "    t0 = time()\n",
    "\n",
    "    inertias = {}\n",
    "    for k in range(1, n):\n",
    "        kmeans = KMeans(n_clusters=k, max_iter=100, n_init=1, random_state=1)\n",
    "\n",
    "        kmeans.fit(X_lsa)\n",
    "        inertias[k] = kmeans.inertia_\n",
    "\n",
    "    print(f\"Clustering done in {time() - t0:.3f} s\")\n",
    "\n",
    "    plt.figure()\n",
    "    plt.plot(inertias.keys(), inertias.values())\n",
    "    plt.xlabel(\"Number of clusters\")\n",
    "    plt.ylabel(\"Inertia\")\n",
    "    plt.show()\n",
    "\n",
    "\n",
    "def terms_per_cluster(lsa, vectorizer, kmeans, n):\n",
    "    original_space_centroids = lsa[0].inverse_transform(kmeans.cluster_centers_)\n",
    "    order_centroids = original_space_centroids.argsort()[:, ::-1]\n",
    "    terms = vectorizer.get_feature_names_out()\n",
    "\n",
    "    for i in range(n):\n",
    "        print(f\"Cluster {i}: \", end=\"\")\n",
    "        for ind in order_centroids[i, :20]:\n",
    "            print(f\"{terms[ind]} \", end=\"\")\n",
    "        print()"
   ]
  },
  {
   "cell_type": "code",
   "execution_count": 31,
   "metadata": {},
   "outputs": [
    {
     "name": "stdout",
     "output_type": "stream",
     "text": [
      "Clustering done in 4.829 s\n"
     ]
    },
    {
     "data": {
      "image/png": "[encoded data removed]",
      "text/plain": [
       "<Figure size 640x480 with 1 Axes>"
      ]
     },
     "metadata": {},
     "output_type": "display_data"
    }
   ],
   "source": [
    "cluster_means(20, X_lsa_all)"
   ]
  },
  {
   "cell_type": "markdown",
   "metadata": {},
   "source": [
    "# Top terms per Cluster"
   ]
  },
  {
   "cell_type": "code",
   "execution_count": 41,
   "metadata": {},
   "outputs": [
    {
     "name": "stdout",
     "output_type": "stream",
     "text": [
      "Cluster 0: wesentlich datum sales tiefgründig sein erfolgreich inputgeber businesssprach zeitgleich mehrdimensional visualisierungsplattform stepston wachstumsfeld kundenperspektive zielbild datenverständnis aggregation parameter verknüpfung mysql \n",
      "Cluster 1: kreditanalyst bank kenntnis erstellung office bereich m analyse hoch risiko abgeschlossen insbesondere rahmen analytisch überwachung gewerblich prüfung berufserfahrung studium umgang \n",
      "Cluster 2: sein data datum analytic analyse marketing bereich power kenntnis business tool erfahrung dashboard datenanalyse sql report analyst analytisch team digital \n",
      "Cluster 3: financial risk experience finance analysis skills investment business management credit project strong supporen degree work processes analytical team knowledg well \n",
      "Cluster 4: business anforderung fachlich prozeß agil technisch team erfahrung analyst kunde lösung projekt fachbereich arbeiten vergleichbar unser studium umsetzung bereich bringen \n",
      "Cluster 5: controlling sap erstellung analyse business kenntnis m excel analyst office bereich fähigkeit analytisch unterstützung schwerpunkt abgeschlossen erfahrung controll studium ad \n",
      "Cluster 6: data experience skills business project knowledg analysis work team market supporen development working strong analytical english well customer product science \n",
      "Cluster 7: security bereich erfahrung kenntnis technisch abgeschlossen analyst analyse durchführung intern hoch umgang unterstützung supply deutsch vergleichbar m chai wort englischkenntnis \n",
      "Cluster 8: data science learning machine erfahrung bereich modell scientist entwicklung analytic kenntnis python datum lösung ki methode mathematik team informatik statistisch \n"
     ]
    }
   ],
   "source": [
    "cluster_count=9\n",
    "kmeans_all = KMeans(\n",
    "    n_clusters=cluster_count,\n",
    "    max_iter=100,\n",
    "    n_init=1,\n",
    "\trandom_state=2\n",
    ")\n",
    "\n",
    "\n",
    "kmeans_all.fit(X_lsa_all)\n",
    "\n",
    "terms_per_cluster(lsa_all, vectorizer_all, kmeans_all, cluster_count)"
   ]
  },
  {
   "cell_type": "markdown",
   "metadata": {},
   "source": [
    "Wir stellen fest, dass wir Jobs in Deutsch und Englisch haben. Wir wollen unsere Analyse aber auf deutsche Jobs beschränken. Also wollen wir nicht mehr mit Dokumenten aus Cluster 6 arbeiten"
   ]
  },
  {
   "cell_type": "code",
   "execution_count": 33,
   "metadata": {},
   "outputs": [
    {
     "name": "stdout",
     "output_type": "stream",
     "text": [
      "1848 german documents\n"
     ]
    }
   ],
   "source": [
    "labels = kmeans_all.labels_\n",
    "\n",
    "indeces_cluster_german = np.where(labels != 6)[0]\n",
    "\n",
    "german_docs = [lemmas[i] for i in indeces_cluster_german]\n",
    "print(f\"{len(german_docs)} german documents\")"
   ]
  },
  {
   "cell_type": "code",
   "execution_count": 34,
   "metadata": {},
   "outputs": [
    {
     "name": "stdout",
     "output_type": "stream",
     "text": [
      "vectorization done in 0.151 s\n",
      "n_samples: 1848, n_features: 3871\n",
      "Sparsity: 0.021\n"
     ]
    },
    {
     "name": "stderr",
     "output_type": "stream",
     "text": [
      "/Library/Frameworks/Python.framework/Versions/3.11/lib/python3.11/site-packages/sklearn/feature_extraction/text.py:525: UserWarning: The parameter 'token_pattern' will not be used since 'tokenizer' is not None'\n",
      "  warnings.warn(\n"
     ]
    },
    {
     "name": "stdout",
     "output_type": "stream",
     "text": [
      "LSA done in 0.697 s\n",
      "Explained variance of the SVD step: 31.9%\n"
     ]
    }
   ],
   "source": [
    "vectorizer_ger, X_tfidf_ger, lsa_ger, X_lsa_ger = vec_lsa(german_docs)"
   ]
  },
  {
   "cell_type": "code",
   "execution_count": 35,
   "metadata": {},
   "outputs": [
    {
     "name": "stdout",
     "output_type": "stream",
     "text": [
      "Clustering done in 2.703 s\n"
     ]
    },
    {
     "data": {
      "image/png": "[encoded data removed]",
      "text/plain": [
       "<Figure size 640x480 with 1 Axes>"
      ]
     },
     "metadata": {},
     "output_type": "display_data"
    }
   ],
   "source": [
    "cluster_means(30, X_lsa_ger)"
   ]
  },
  {
   "cell_type": "code",
   "execution_count": 39,
   "metadata": {},
   "outputs": [
    {
     "data": {
      "image/png": "[encoded data removed]",
      "text/plain": [
       "<Figure size 640x480 with 1 Axes>"
      ]
     },
     "metadata": {},
     "output_type": "display_data"
    }
   ],
   "source": [
    "import seaborn as sns\n",
    "\n",
    "kmeans_ger = KMeans(\n",
    "    n_clusters=9,\n",
    "    max_iter=100,\n",
    "    n_init=1,\n",
    "\trandom_state=2\n",
    ")\n",
    "\n",
    "kmeans_ger.fit(X_lsa_ger)\n",
    "\n",
    "labels = kmeans_ger.labels_\n",
    "\n",
    "df_eval = pd.DataFrame(\n",
    "    {\"Label\": labels, \"Kategorie\": jobs.iloc[indeces_cluster_german, 18]}\n",
    ")\n",
    "\n",
    "# display(df_eval.groupby(\"Kategorie\").value_counts(subset=[\"Label\"], normalize=True))\n",
    "by_label = df_eval.groupby(\"Label\").value_counts(subset=[\"Kategorie\"], normalize=True)\n",
    "\n",
    "ax = sns.histplot(\n",
    "    data=df_eval, x=\"Label\", hue=\"Kategorie\", multiple=\"stack\", stat=\"percent\"\n",
    ")\n",
    "sns.move_legend(ax, \"upper left\", bbox_to_anchor=(1, 1))\n",
    "# terms_per_cluster(lsa, vectorizer, kmeans, 2)"
   ]
  },
  {
   "cell_type": "code",
   "execution_count": 37,
   "metadata": {},
   "outputs": [],
   "source": [
    "# jobs einmal nach cluster und einmal nach kategorie aufteilen\n",
    "# für jede gruppe training split mit GridSearchCV\n",
    "# gehalt vorhersagen"
   ]
  }
 ],
 "metadata": {
  "kernelspec": {
   "display_name": "Python 3",
   "language": "python",
   "name": "python3"
  },
  "language_info": {
   "codemirror_mode": {
    "name": "ipython",
    "version": 3
   },
   "file_extension": ".py",
   "mimetype": "text/x-python",
   "name": "python",
   "nbconvert_exporter": "python",
   "pygments_lexer": "ipython3",
   "version": "3.11.4"
  }
 },
 "nbformat": 4,
 "nbformat_minor": 2
}
